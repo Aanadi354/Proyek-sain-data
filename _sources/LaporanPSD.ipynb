{
  "nbformat": 4,
  "nbformat_minor": 0,
  "metadata": {
    "colab": {
      "provenance": [],
      "toc_visible": true
    },
    "kernelspec": {
      "name": "python3",
      "display_name": "Python 3"
    },
    "language_info": {
      "name": "python"
    }
  },
  "cells": [
    {
      "cell_type": "markdown",
      "source": [
        "<center><h1><b>ANALISIS DAN PREDIKSI HARGA BAWANG PUTIH DI SURABAYA BERDASARKAN TIME SERIES</h1></center>\n"
      ],
      "metadata": {
        "id": "Kns3JU5RF_Mo"
      }
    },
    {
      "cell_type": "markdown",
      "source": [
        "Nama : Aan Adi Setiyawan\n",
        "\n",
        "NIM : 220411100032\n",
        "\n"
      ],
      "metadata": {
        "id": "tkggWEBYKp_T"
      }
    },
    {
      "cell_type": "markdown",
      "source": [
        "# **BAB I PENDAHULUAN**\n",
        "\n"
      ],
      "metadata": {
        "id": "Ok19xnIwIbiX"
      }
    },
    {
      "cell_type": "markdown",
      "source": [
        "## **1.1 Latar Belakang**\n",
        "\n",
        "<div style=\"text-align: justify;\">\n",
        "Bawang putih merupakan salah satu komoditas pangan yang penting bagi masyarakat Indonesia, khususnya di Surabaya, sebagai salah satu pusat perdagangan di Pulau Jawa. Kebutuhan bawang putih sangat besar karena digunakan sebagai bahan dasar dalam berbagai masakan. Oleh karena itu, fluktuasi harga bawang putih dapat berdampak langsung pada kesejahteraan masyarakat, pelaku usaha kecil, serta industri kuliner.\n",
        "\n",
        "Selama beberapa tahun terakhir, harga bawang putih di Surabaya mengalami perubahan yang cukup signifikan. Berbagai faktor, seperti musim panen, cuaca, kebijakan impor, serta distribusi, menjadi penyebab utama naik-turunnya harga di pasaran. Perubahan harga yang tidak terduga ini sering kali menimbulkan kekhawatiran, baik di kalangan konsumen maupun pedagang.\n",
        "\n",
        "Untuk menghadapi tantangan ini, diperlukan sebuah pendekatan berbasis data yang mampu memprediksi harga bawang putih secara lebih akurat. Dengan memanfaatkan data historis harga bawang putih dari tahun 2020 hingga sekarang, analisis time series dapat memberikan gambaran tren harga di masa mendatang. Informasi ini akan sangat berguna bagi para pelaku bisnis untuk mengambil keputusan yang lebih bijak, seperti mengelola stok, merencanakan pembelian, hingga menetapkan harga jual yang kompetitif.\n",
        "\n",
        "Dengan adanya prediksi harga bawang putih, diharapkan dapat membantu stabilisasi pasar dan memberikan keuntungan baik bagi konsumen maupun pedagang. Selain itu, pemerintah dan pihak terkait dapat menggunakan informasi prediktif ini untuk merancang kebijakan yang lebih tepat guna mengantisipasi fluktuasi harga di masa depan.\n",
        "</div>"
      ],
      "metadata": {
        "id": "2W9AkVvhGcwM"
      }
    },
    {
      "cell_type": "markdown",
      "source": [
        "## **1.2 Tujuan Analisis**\n",
        "\n",
        "\n",
        "<div style=\"text-align: justify;\">\n",
        "Dalam sebuah pasar yang dinamis, seperti komoditas bawang putih di Surabaya, fluktuasi harga yang tidak terduga dapat memberikan tantangan besar bagi berbagai pihak. Bagi petani, perubahan harga yang tajam dapat berdampak pada keuntungan dan keberlanjutan produksi. Bagi pemerintah, fluktuasi harga yang tidak terkendali bisa menimbulkan inflasi pangan, sementara bagi konsumen, lonjakan harga secara tiba-tiba bisa memengaruhi daya beli dan kesejahteraan.\n",
        "\n",
        "Untuk itu, analisis ini dilakukan dengan tujuan utama memprediksi harga bawang putih di masa depan berdasarkan data historis dari tahun 2020 hingga saat ini. Dengan melakukan analisis time series, diharapkan dapat memberikan wawasan tentang pola-pola harga yang muncul dari waktu ke waktu. Informasi prediktif ini akan sangat bermanfaat bagi berbagai pemangku kepentingan, baik dari kalangan petani, pemerintah, maupun konsumen.\n",
        "\n",
        "Melalui prediksi yang lebih akurat, para petani dapat merencanakan musim tanam dan panen dengan lebih baik, meminimalkan risiko kerugian akibat harga yang turun secara tiba-tiba, serta memaksimalkan hasil panen ketika harga diprediksi akan meningkat. Pemerintah dan pemangku kebijakan dapat memanfaatkan informasi ini untuk mengambil langkah antisipatif dalam menjaga stabilitas harga, mengontrol inflasi, serta memastikan pasokan bawang putih tetap aman. Sementara itu, konsumen bisa mendapatkan manfaat dari harga yang lebih stabil dan terjangkau, serta dapat merencanakan anggaran belanja lebih baik.\n",
        "\n",
        "Selain itu, prediksi harga bawang putih juga memberikan keuntungan bagi pelaku usaha, khususnya di sektor kuliner dan perdagangan, dengan membantu mereka menetapkan strategi penetapan harga, pengelolaan stok, dan perencanaan pembelian. Dengan begitu, semua pihak yang terlibat dalam rantai pasok bawang putih dapat beroperasi secara lebih efisien dan terinformasi.\n",
        "\n",
        "**Tujuan bagi Petani:**\n",
        "\n",
        "1. Membantu petani merencanakan musim tanam dan panen dengan lebih tepat berdasarkan prediksi harga.\n",
        "2. Mengurangi risiko kerugian akibat fluktuasi harga yang tiba-tiba.\n",
        "3. Memaksimalkan keuntungan ketika harga bawang putih diprediksi akan naik.\n",
        "\n",
        "**Tujuan bagi Pemerintah**\n",
        "\n",
        "1. Menyediakan informasi yang mendukung pembuatan kebijakan stabilisasi harga pangan.\n",
        "2. Membantu pemerintah menjaga pasokan bawang putih agar tidak terjadi 3. kekurangan atau kelebihan pasokan.\n",
        "Mendukung pengendalian inflasi, khususnya untuk komoditas pangan.\n",
        "\n",
        "**Tujuan bagi Konsumen:**\n",
        "\n",
        "1. Memberikan manfaat berupa harga bawang putih yang lebih stabil dan terjangkau.\n",
        "2. Memudahkan konsumen dalam merencanakan anggaran belanja rumah tangga dengan lebih baik.\n",
        "3. Mengurangi dampak negatif dari lonjakan harga secara tiba-tiba yang bisa memengaruhi daya beli.\n",
        "</div>\n"
      ],
      "metadata": {
        "id": "LHE-MI4iG3_E"
      }
    },
    {
      "cell_type": "markdown",
      "source": [
        "## **1.3 Rumusan Masalah**\n",
        "\n",
        "<div style=\"text-align: justify;\">\n",
        "1. Bagaimana pola pergerakan harga bawang putih di Surabaya dari tahun 2020 hingga saat ini?\n",
        "2. Apakah harga bawang putih dapat diprediksi secara akurat menggunakan metode time series?\n",
        "3. Bagaimana hasil prediksi harga bawang putih dapat membantu petani, pemerintah, dan konsumen dalam mengambil keputusan?\n",
        "</div>"
      ],
      "metadata": {
        "id": "imSqIHudH9fy"
      }
    },
    {
      "cell_type": "markdown",
      "source": [
        "# **DATA UNDERSTANDING**\n"
      ],
      "metadata": {
        "id": "qN2QU5Wn1H8a"
      }
    },
    {
      "cell_type": "code",
      "execution_count": null,
      "metadata": {
        "id": "JddGYRuflXLZ"
      },
      "outputs": [],
      "source": [
        "import pandas as pd\n",
        "import numpy as np\n",
        "import matplotlib.pyplot as plt\n",
        "import matplotlib.dates as mdates\n",
        "import seaborn as sns\n",
        "import plotly.express as px\n",
        "\n",
        "color_pal = sns.color_palette()\n",
        "plt.style.use(\"fivethirtyeight\")\n"
      ]
    },
    {
      "cell_type": "code",
      "source": [
        "# Baca file Excel\n",
        "df = pd.read_excel('dataset_bawangputih.xlsx')\n",
        "\n",
        "# Menampilkan beberapa baris data\n",
        "print(df.head())"
      ],
      "metadata": {
        "id": "2CsR-Zc-tiFm"
      },
      "execution_count": null,
      "outputs": []
    },
    {
      "cell_type": "markdown",
      "source": [
        "## Cek tipe data dan ubah jika belum sesuai"
      ],
      "metadata": {
        "id": "PFEkwJDwdAiy"
      }
    },
    {
      "cell_type": "code",
      "source": [
        "# Cek tipe data tiap kolom\n",
        "print(df.dtypes)\n",
        "df.head()\n"
      ],
      "metadata": {
        "id": "MV5yNQsSuIyI"
      },
      "execution_count": null,
      "outputs": []
    },
    {
      "cell_type": "code",
      "source": [
        "df[\"Tanggal\"] = pd.to_datetime(df[\"Tanggal\"])\n",
        "df.head()"
      ],
      "metadata": {
        "id": "Tnq_WJUbCrZC"
      },
      "execution_count": null,
      "outputs": []
    },
    {
      "cell_type": "markdown",
      "source": [
        "Cek missing value"
      ],
      "metadata": {
        "id": "1_a0sunvdMVJ"
      }
    },
    {
      "cell_type": "code",
      "source": [
        "# Cek missing values\n",
        "print(\"Jumlah missing values tiap kolom:\")\n",
        "print(df.isnull().sum())"
      ],
      "metadata": {
        "id": "awv-wAiCDdeK"
      },
      "execution_count": null,
      "outputs": []
    },
    {
      "cell_type": "markdown",
      "source": [
        "## Visualisasi Data"
      ],
      "metadata": {
        "id": "gzW2tCB_daMt"
      }
    },
    {
      "cell_type": "code",
      "source": [
        "plt.figure(figsize=(20,6))\n",
        "plt.plot(df[\"Tanggal\"], df['Harga'], lw=2)\n",
        "plt.xlabel(\"date\")\n",
        "plt.xlabel(\"date\", fontsize=16)\n",
        "plt.ylabel(\"Harga Daging Sapi\", fontsize=16)\n",
        "plt.title(\"Harga Daging Sapi\", fontsize=16);"
      ],
      "metadata": {
        "id": "a-Ro7MAzvlBl"
      },
      "execution_count": null,
      "outputs": []
    },
    {
      "cell_type": "code",
      "source": [
        "df.describe()"
      ],
      "metadata": {
        "id": "E4aoJKrEwSE_"
      },
      "execution_count": null,
      "outputs": []
    },
    {
      "cell_type": "code",
      "source": [
        "from sklearn.preprocessing import MinMaxScaler\n",
        "\n",
        "# Inisialisasi MinMaxScaler\n",
        "scaler = MinMaxScaler()\n",
        "\n",
        "# Salin dataframe untuk menjaga data asli\n",
        "df_normalized = df.copy()\n",
        "\n",
        "# Normalisasi hanya kolom PassengerCount\n",
        "df_normalized['Harga'] = scaler.fit_transform(df[['Harga']])"
      ],
      "metadata": {
        "id": "ZvmeNr5xUmL5"
      },
      "execution_count": null,
      "outputs": []
    },
    {
      "cell_type": "code",
      "source": [
        "df_slide = df_normalized.copy()"
      ],
      "metadata": {
        "id": "YEaW_98mU31W"
      },
      "execution_count": null,
      "outputs": []
    },
    {
      "cell_type": "markdown",
      "source": [
        "## Sliding window atau supervised learning"
      ],
      "metadata": {
        "id": "iKBas4zbGv1h"
      }
    },
    {
      "cell_type": "markdown",
      "source": [
        "Perintah yang kamu berikan menggunakan fungsi shift untuk membuat sliding windows dari kolom Harga. Berikut adalah penjelasan dari setiap langkah:\n",
        "\n",
        "Shift(-3), Shift(-2), Shift(-1): Fungsi shift digunakan untuk menggeser data ke bawah. Misalnya, shift(-3) akan memindahkan nilai ke bawah sebanyak 3 baris. Dengan demikian, kolom xt-3, xt-2, dan xt-1 akan memiliki nilai dari baris sebelumnya (sesuai dengan jumlah geserannya), sementara kolom xt akan berisi harga saat ini.\n",
        "\n",
        "Drop 'Harga': Setelah sliding window terbentuk, kolom asli Harga dihapus karena nilainya sudah dimasukkan ke dalam kolom sliding window (xt-3, xt-2, xt-1, dan xt)."
      ],
      "metadata": {
        "id": "b4EUoTzluMaw"
      }
    },
    {
      "cell_type": "code",
      "source": [
        "df_slide['xt-3'] = df_slide['Harga'].shift(-3)\n",
        "df_slide['xt-2'] = df_slide['Harga'].shift(-2)\n",
        "df_slide['xt-1'] = df_slide['Harga'].shift(-1)\n",
        "df_slide['xt'] = df_slide['Harga']\n",
        "\n",
        "df_slide = df_slide.drop(columns=['Harga'])\n",
        "\n",
        "df_slide.head()"
      ],
      "metadata": {
        "id": "ZUEGdG4_x-n2"
      },
      "execution_count": null,
      "outputs": []
    },
    {
      "cell_type": "code",
      "source": [
        "df_slide.dtypes"
      ],
      "metadata": {
        "id": "m_VWPJ2UyM9m"
      },
      "execution_count": null,
      "outputs": []
    },
    {
      "cell_type": "code",
      "source": [
        "df_slide = df_slide.set_index('Tanggal')"
      ],
      "metadata": {
        "id": "BfJ1ME3gyQU7"
      },
      "execution_count": null,
      "outputs": []
    },
    {
      "cell_type": "code",
      "source": [
        "# # Mengambil semua kolom fitur\n",
        "# features = list(df_slide.columns)\n",
        "\n",
        "# # Menghitung jumlah subplot yang diperlukan\n",
        "# num_features = len(features)\n",
        "# num_rows = (num_features + 1) // 2  # Pembulatan ke atas untuk jumlah baris\n",
        "\n",
        "# # Membuat subplot sesuai dengan jumlah fitur\n",
        "# fig, axs = plt.subplots(num_rows, 2, figsize=(12, num_rows*4))\n",
        "\n",
        "# # Melakukan plotting untuk setiap fitur\n",
        "# for i, feature in enumerate(features):\n",
        "#     row = i // 2\n",
        "#     col = i % 2\n",
        "#     axs[row, col].hist(df_slide[feature], bins=20, color='blue', alpha=0.5)\n",
        "#     axs[row, col].set_title(f'Distribution of {feature}')\n",
        "#     axs[row, col].set_xlabel(feature)\n",
        "#     axs[row, col].set_ylabel('Frequency')\n",
        "\n",
        "# # Menghapus subplot yang tidak terpakai\n",
        "# if num_features % 2 == 1:\n",
        "#     fig.delaxes(axs[num_rows-1, 1])\n",
        "\n",
        "# # Menyesuaikan layout\n",
        "# plt.tight_layout()\n",
        "\n",
        "# # Menampilkan plot\n",
        "# plt.show()"
      ],
      "metadata": {
        "id": "xTCCSsI1yZug"
      },
      "execution_count": null,
      "outputs": []
    },
    {
      "cell_type": "markdown",
      "source": [
        "\n",
        "Perintah print(df_slide.isnull().sum()) digunakan untuk memeriksa apakah ada nilai yang hilang (NaN atau null) di dalam DataFrame df_slide."
      ],
      "metadata": {
        "id": "2VMndU3luhLC"
      }
    },
    {
      "cell_type": "code",
      "source": [
        "print(df_slide.isnull().sum())"
      ],
      "metadata": {
        "id": "16Q_b5pnygTO"
      },
      "execution_count": null,
      "outputs": []
    },
    {
      "cell_type": "markdown",
      "source": [
        "scatter plot untuk tiap-tiap fitur yang dihasilkan dari sliding window time series. Plot ini berguna untuk visualisasi data harga daging sapi dari beberapa periode waktu (lag) yang berbeda dalam satu grafik"
      ],
      "metadata": {
        "id": "0ybK1ZMwu7wl"
      }
    },
    {
      "cell_type": "code",
      "source": [
        "features = df_slide.columns\n",
        "colors = plt.cm.get_cmap('tab10', len(features))\n",
        "plt.figure(figsize=(15, 5))\n",
        "\n",
        "for i, feature in enumerate(features):\n",
        "    plt.plot(df_slide.index, df_slide[feature], linestyle='', marker='.', color=colors(i), label=feature)\n",
        "plt.title('Daftar Harga Daging Sapi')\n",
        "plt.legend()\n",
        "# plt.xticks(rotation=90)\n",
        "plt.show()\n"
      ],
      "metadata": {
        "id": "iOMTpjCNyiMa"
      },
      "execution_count": null,
      "outputs": []
    },
    {
      "cell_type": "markdown",
      "source": [
        "## Pengecekan outlier pada data"
      ],
      "metadata": {
        "id": "0dcM1c2wcdfI"
      }
    },
    {
      "cell_type": "code",
      "source": [
        "import numpy as np\n",
        "import matplotlib.pyplot as plt\n",
        "import seaborn as sb\n",
        "features = ['xt-3', 'xt-2', 'xt-1', 'xt']\n",
        "plt.subplots(figsize=(20,10))\n",
        "for i, col in enumerate(features):\n",
        "  plt.subplot(2,2,i+1)\n",
        "  sb.boxplot(df_slide[col])\n",
        "plt.show()"
      ],
      "metadata": {
        "id": "iT2mR7Siywqf"
      },
      "execution_count": null,
      "outputs": []
    },
    {
      "cell_type": "code",
      "source": [
        "from scipy.stats import zscore\n",
        "import matplotlib.pyplot as plt\n",
        "\n",
        "# === 1. Metode IQR (Interquartile Range) ===\n",
        "Q1 = df_slide['xt'].quantile(0.25)  # Kuartil pertama\n",
        "Q3 = df_slide['xt'].quantile(0.75)  # Kuartil ketiga\n",
        "IQR = Q3 - Q1  # Rentang antar kuartil\n",
        "\n",
        "# Batas atas dan bawah untuk mendeteksi outlier\n",
        "lower_bound = Q1 - 1.5 * IQR\n",
        "upper_bound = Q3 + 1.5 * IQR\n",
        "\n",
        "# Menandai outlier (di luar batas IQR)\n",
        "df_slide['IQR_Outlier'] = (df_slide['xt'] < lower_bound) | (df_slide['xt'] > upper_bound)\n",
        "\n",
        "# === 2. Metode Z-Score ===\n",
        "df_slide['Z_Score'] = zscore(df_slide['xt'])\n",
        "threshold = 3  # Threshold untuk z-score (nilai absolut > 3 dianggap outlier)\n",
        "df_slide['Z_Score_Outlier'] = df_slide['Z_Score'].abs() > threshold\n",
        "\n",
        "# Menampilkan Data dengan Outlier Ditandai\n",
        "print(\"Data dengan Deteksi Outlier:\")\n",
        "print(df_slide)\n",
        "\n",
        "# === Visualisasi Outlier ===\n",
        "plt.figure(figsize=(10, 5))\n",
        "\n",
        "# Instead of 'Month', use df_slide.index for the x-axis if it represents time\n",
        "plt.plot(df_slide.index, df_slide['xt'], label='Data Aktual', marker='o')\n",
        "# If you have a separate column representing time, replace 'Month' with the actual column name\n",
        "\n",
        "# Tandai outlier dengan lingkaran merah\n",
        "outliers = df_slide[df_slide['IQR_Outlier'] | df_slide['Z_Score_Outlier']]\n",
        "if not outliers.empty:\n",
        "    # Replace 'Month' with df_slide.index or the actual time column for the x-axis\n",
        "    plt.scatter(outliers.index, outliers['xt'], color='red', label='Outlier', s=100)\n",
        "\n",
        "# Konfigurasi plot\n",
        "plt.xlabel('Index' or 'Actual Time Column Name') # Replace with appropriate label\n",
        "plt.ylabel('Harga Daging Saapi')\n",
        "plt.title('Deteksi Outlier pada Time Series')\n",
        "plt.legend()\n",
        "plt.grid(True)\n",
        "\n",
        "# Tampilkan plot\n",
        "plt.show()"
      ],
      "metadata": {
        "id": "YoLVCy6HyzU1"
      },
      "execution_count": null,
      "outputs": []
    },
    {
      "cell_type": "code",
      "source": [
        "outliers = df_slide[df_slide['IQR_Outlier'] | df_slide['Z_Score_Outlier']]\n",
        "\n",
        "# Jika ada outlier, tampilkan\n",
        "if not outliers.empty:\n",
        "    print(\"Data Outlier yang Ditemukan:\")\n",
        "    display(outliers)\n",
        "else:\n",
        "    print(\"Tidak ada outlier yang terdeteksi pada data ini.\")"
      ],
      "metadata": {
        "id": "NnPRSFoUzK8v"
      },
      "execution_count": null,
      "outputs": []
    },
    {
      "cell_type": "code",
      "source": [
        "# from scipy.stats.mstats import winsorize\n",
        "\n",
        "# # Batas winsorizing (misalnya, 5% dan 95%)\n",
        "# lower_limit = 0.05\n",
        "# upper_limit = 0.95\n",
        "\n",
        "# # Winsorize kolom 'xt'\n",
        "# df_slide_cleaned['xt_winsorized'] = winsorize(df_slide_cleaned['xt'], limits=(lower_limit, upper_limit))\n",
        "\n",
        "# # Gunakan 'xt_winsorized' sebagai fitur untuk pemodelan"
      ],
      "metadata": {
        "id": "0ABHOgCXVjWZ"
      },
      "execution_count": null,
      "outputs": []
    },
    {
      "cell_type": "markdown",
      "source": [
        "# **PREPOCESSING**"
      ],
      "metadata": {
        "id": "-8sye3M1z9xp"
      }
    },
    {
      "cell_type": "markdown",
      "source": [
        "## Melihat Missing Value dan mengatasinya"
      ],
      "metadata": {
        "id": "gNw0hjvjco6D"
      }
    },
    {
      "cell_type": "code",
      "source": [
        "df_slide_cleaned = df_slide.dropna()\n",
        "df_slide_cleaned.isna().sum()"
      ],
      "metadata": {
        "id": "H6yM02aF0DYP"
      },
      "execution_count": null,
      "outputs": []
    },
    {
      "cell_type": "code",
      "source": [
        "df_slide_cleaned.drop(columns=['Z_Score_Outlier', 'IQR_Outlier', 'Z_Score'], inplace=True)"
      ],
      "metadata": {
        "id": "qPJ84xI71Cv1"
      },
      "execution_count": null,
      "outputs": []
    },
    {
      "cell_type": "markdown",
      "source": [
        "# **MODELLING**"
      ],
      "metadata": {
        "id": "y1AVuS8O3Y_F"
      }
    },
    {
      "cell_type": "code",
      "source": [
        "from sklearn.model_selection import train_test_split"
      ],
      "metadata": {
        "id": "8Dx-V56n1kAq"
      },
      "execution_count": null,
      "outputs": []
    },
    {
      "cell_type": "code",
      "source": [
        "X_train_model = df_slide_cleaned.drop(columns=['xt'])\n",
        "y_train_model = df_slide_cleaned['xt']"
      ],
      "metadata": {
        "id": "fxDplaZt2Txi"
      },
      "execution_count": null,
      "outputs": []
    },
    {
      "cell_type": "markdown",
      "source": [
        "## membagi data train 80%, tes 20%"
      ],
      "metadata": {
        "id": "6Sa3iZY2pmdV"
      }
    },
    {
      "cell_type": "code",
      "source": [
        "X_train, X_test, y_train, y_test = train_test_split(X_train_model, y_train_model, test_size = 0.2, random_state=42, shuffle=False)"
      ],
      "metadata": {
        "id": "7gpIEBh02Xv4"
      },
      "execution_count": null,
      "outputs": []
    },
    {
      "cell_type": "code",
      "source": [
        "# Mengetahui jumlah data pada set pelatihan\n",
        "jumlah_data_train = len(X_train)\n",
        "print(f\"Jumlah data train: {jumlah_data_train}\")\n",
        "\n",
        "# Mengetahui jumlah data pada set pengujian\n",
        "jumlah_data_test = len(X_test)\n",
        "print(f\"Jumlah data test: {jumlah_data_test}\")\n"
      ],
      "metadata": {
        "id": "XBe7F7AsBiVt"
      },
      "execution_count": null,
      "outputs": []
    },
    {
      "cell_type": "markdown",
      "source": [
        "## **MODEL REGRESI LINIER**"
      ],
      "metadata": {
        "id": "3jcvs4w_3HRD"
      }
    },
    {
      "cell_type": "markdown",
      "source": [
        "### Cara menghitung MAPE"
      ],
      "metadata": {
        "id": "wsvZ-F8AMuHK"
      }
    },
    {
      "cell_type": "markdown",
      "source": [
        "$$\\text{MPE}(y, \\hat{y}) = \\frac{100\\%}{N} \\sum_{i=0}^{N - 1} \\frac{y_i - \\hat{y}_i}{y_i}.$$\n",
        "\n",
        "Keterangan:\n",
        "\n",
        "MAPE = mean absolute percentage error\n",
        "\n",
        "n  = jumlah data\n",
        "\n",
        "y  = nilai hasil aktual\n",
        "\n",
        "ŷ  = nilai hasil pendugaan\n",
        "\n",
        "MAPE mengukur kesalahan prediksi dalam bentuk persentase dari nilai aktual. Semakin kecil nilai MAPE, semakin akurat model prediksi."
      ],
      "metadata": {
        "id": "jWuMnKBbM3G3"
      }
    },
    {
      "cell_type": "code",
      "source": [
        "from sklearn.linear_model import LinearRegression\n",
        "from sklearn.metrics import mean_squared_error, r2_score\n",
        "import numpy as np  # Tambahkan ini untuk menghitung akar kuadrat\n",
        "\n",
        "# Inisialisasi dan latih model regresi linear\n",
        "model = LinearRegression()\n",
        "model.fit(X_train, y_train)\n",
        "\n",
        "# Prediksi pada data uji\n",
        "y_pred = model.predict(X_test)\n",
        "\n",
        "# Evaluasi model\n",
        "mse = mean_squared_error(y_test, y_pred)\n",
        "rmse = np.sqrt(mse)  # Hitung RMSE\n",
        "r2 = r2_score(y_test, y_pred)\n",
        "\n",
        "\n",
        "# Hitung MAPE secara manual\n",
        "def mean_absolute_percentage_error(y_true, y_pred):\n",
        "    y_true, y_pred = np.array(y_true), np.array(y_pred)\n",
        "    return np.mean(np.abs((y_true - y_pred) / y_true)) * 100\n",
        "\n",
        "mse_percentage = mse * 100\n",
        "\n",
        "print(f'Mean Squared Error: {mse_percentage}')\n",
        "print(f'Root Mean Squared Error (RMSE): {rmse}')\n",
        "print(f'R-squared: {r2}')\n",
        "\n",
        "\n",
        "# Hitung MAPE\n",
        "mape = mean_absolute_percentage_error(y_test, y_pred)\n",
        "print(f'MAPE: {mape}%')\n",
        "\n",
        "\n",
        "# Tampilkan hasil prediksi vs aktual (jika diperlukan)\n",
        "# results = pd.DataFrame({'Actual': y_test, 'Predicted': y_pred}, index=y_test.index)\n",
        "# print(results)\n",
        "\n"
      ],
      "metadata": {
        "id": "S8fAypjVLttY"
      },
      "execution_count": null,
      "outputs": []
    },
    {
      "cell_type": "code",
      "source": [
        "# Create a DataFrame to hold the actual vs predicted results\n",
        "results_regresion = pd.DataFrame({'Actual': y_test, 'Predicted': y_pred}, index=y_test.index)\n",
        "\n",
        "# Plotting the Actual vs Predicted values\n",
        "plt.figure(figsize=(15,6))\n",
        "plt.plot(results_regresion.index, results_regresion['Actual'], label='Actual', marker='o')\n",
        "plt.plot(results_regresion.index, results_regresion['Predicted'], label='Predicted', marker='x')\n",
        "plt.title('Actual vs Predicted Values')\n",
        "plt.xlabel('Index')\n",
        "plt.ylabel('Values')\n",
        "plt.legend()\n",
        "plt.grid(True)\n",
        "\n",
        "# Display the plot\n",
        "plt.show()"
      ],
      "metadata": {
        "id": "AOCBsVO32pLJ"
      },
      "execution_count": null,
      "outputs": []
    },
    {
      "cell_type": "markdown",
      "source": [
        "## **MODEL RANDOM FOREST**"
      ],
      "metadata": {
        "id": "W5JU2OrEFDoK"
      }
    },
    {
      "cell_type": "code",
      "source": [
        "from sklearn.ensemble import RandomForestRegressor\n",
        "from sklearn.metrics import mean_squared_error, r2_score\n",
        "import numpy as np  # Tambahkan ini untuk menghitung akar kuadrat\n",
        "\n",
        "# Inisialisasi dan latih model Random Forest\n",
        "model = RandomForestRegressor(n_estimators=100, random_state=42)\n",
        "model.fit(X_train, y_train)  # Pastikan menggunakan X_train, bukan x_train\n",
        "\n",
        "# Prediksi pada data uji\n",
        "y_pred = model.predict(X_test)\n",
        "\n",
        "# Evaluasi model\n",
        "mse = mean_squared_error(y_test, y_pred)\n",
        "rmse = np.sqrt(mse)  # Hitung RMSE\n",
        "r2 = r2_score(y_test, y_pred)\n",
        "mse_percentage = mse * 100\n",
        "\n",
        "# Hitung MAPE secara manual\n",
        "def mean_absolute_percentage_error(y_true, y_pred):\n",
        "    y_true, y_pred = np.array(y_true), np.array(y_pred)\n",
        "    return np.mean(np.abs((y_true - y_pred) / y_true)) * 100\n",
        "\n",
        "# Tampilkan hasil evaluasi\n",
        "print(f'Mean Squared Error: {mse_percentage}')\n",
        "print(f'Root Mean Squared Error (RMSE): {rmse:.4f}')\n",
        "print(f'R-squared: {r2}')\n",
        "\n",
        "# Hitung MAPE\n",
        "mape = mean_absolute_percentage_error(y_test, y_pred)\n",
        "print(f'MAPE: {mape}%')\n",
        "\n",
        "# Tampilkan hasil prediksi vs aktual (jika diperlukan)\n",
        "# results = pd.DataFrame({'Actual': y_test, 'Predicted': y_pred}, index=y_test.index)\n",
        "# print(results)\n"
      ],
      "metadata": {
        "id": "u4RO4Jyx5eVy"
      },
      "execution_count": null,
      "outputs": []
    },
    {
      "cell_type": "code",
      "source": [
        "# Create a DataFrame to hold the actual vs predicted results\n",
        "results_forest = pd.DataFrame({'Actual': y_test, 'Predicted': y_pred}, index=y_test.index)\n",
        "\n",
        "# Plotting the Actual vs Predicted values\n",
        "plt.figure(figsize=(15,6))\n",
        "plt.plot(results_forest.index, results_forest['Actual'], label='Actual', marker='o')\n",
        "plt.plot(results_forest.index, results_forest['Predicted'], label='Predicted', marker='x')\n",
        "plt.title('Actual vs Predicted Values')\n",
        "plt.xlabel('Index')\n",
        "plt.ylabel('Values')\n",
        "plt.legend()\n",
        "plt.grid(True)\n",
        "\n",
        "# Display the plot\n",
        "plt.show()"
      ],
      "metadata": {
        "id": "VtBDfU_F6KFr"
      },
      "execution_count": null,
      "outputs": []
    },
    {
      "cell_type": "markdown",
      "source": [
        "## **ANSEMBLE BAGGING**"
      ],
      "metadata": {
        "id": "OMDvZ-MDatRR"
      }
    },
    {
      "cell_type": "code",
      "source": [
        "import numpy as np\n",
        "from sklearn.ensemble import BaggingRegressor\n",
        "from sklearn.tree import DecisionTreeRegressor\n",
        "from sklearn.metrics import mean_squared_error\n",
        "from sklearn.model_selection import TimeSeriesSplit\n",
        "\n",
        "# 5. Create a base model (Decision Tree Regressor)\n",
        "base_model = DecisionTreeRegressor()\n",
        "\n",
        "# 6. Create Bagging Regressor with the new 'estimator' parameter\n",
        "bagging_model = BaggingRegressor(\n",
        "    estimator=base_model,\n",
        "    n_estimators=10,  # Number of base models\n",
        "    random_state=42,\n",
        "    n_jobs=-1  # Parallelization\n",
        ")\n",
        "\n",
        "\n",
        "# 7. Train the Bagging model\n",
        "bagging_model.fit(X_train, y_train)\n",
        "\n",
        "# 8. Predict and calculate error on the test set\n",
        "y_pred = bagging_model.predict(X_test)\n",
        "mse = mean_squared_error(y_test, y_pred)\n",
        "\n",
        "# Hitung MAPE secara manual\n",
        "def mean_absolute_percentage_error(y_true, y_pred):\n",
        "    y_true, y_pred = np.array(y_true), np.array(y_pred)\n",
        "    return np.mean(np.abs((y_true - y_pred) / y_true)) * 100\n",
        "\n",
        "# Calculate RMSE from MSE\n",
        "rmse = np.sqrt(mse)\n",
        "\n",
        "print(f\"Mean Squared Error (MSE) Bagging: {mse:.4f}\")\n",
        "print(f'R-squared: {r2}')\n",
        "print(f\"Root Mean Squared Error (RMSE) Bagging: {rmse:.4f}\")\n",
        "\n",
        "# Hitung MAPE\n",
        "mape = mean_absolute_percentage_error(y_test, y_pred)\n",
        "print(f'MAPE: {mape}%')\n"
      ],
      "metadata": {
        "id": "aNyOnZFzFXo-"
      },
      "execution_count": null,
      "outputs": []
    },
    {
      "cell_type": "code",
      "source": [
        "# 9. Visualisasi hasil prediksi vs data aktual\n",
        "plt.figure(figsize=(10, 6))\n",
        "\n",
        "# Plot data aktual\n",
        "plt.plot(df.index[-len(y_test):], y_test, marker='o', label='Actual', color='blue')\n",
        "\n",
        "# Plot data prediksi\n",
        "plt.plot(df.index[-len(y_test):], y_pred, marker='x', label='Predicted', color='red')\n",
        "\n",
        "# Tambahan detail pada plot\n",
        "plt.xlabel('Date')\n",
        "plt.ylabel('Value')\n",
        "plt.title('Bagging Regressor - Actual vs Predicted')\n",
        "plt.legend()\n",
        "plt.grid(True)\n",
        "\n",
        "# Tampilkan plot\n",
        "plt.show()"
      ],
      "metadata": {
        "id": "slZr0_qpFccy"
      },
      "execution_count": null,
      "outputs": []
    },
    {
      "cell_type": "markdown",
      "source": [
        "# **EVALUASI MODEL**"
      ],
      "metadata": {
        "id": "XRH0bj31lbpt"
      }
    },
    {
      "cell_type": "markdown",
      "source": [
        "## REGRESI LINIER"
      ],
      "metadata": {
        "id": "MqyiJ2bTlimh"
      }
    },
    {
      "cell_type": "code",
      "source": [
        "# Buat DataFrame untuk membandingkan harga aktual dan prediksi\n",
        "results = pd.DataFrame({'Actual': y_test, 'Predicted': y_pred}, index=X_test.index)\n",
        "\n",
        "# Hitung persentase error per minggu\n",
        "results['Error (%)'] = (results['Actual'] - results['Predicted']) / results['Actual'] * 100\n",
        "\n",
        "# Tampilkan hasil prediksi vs harga aktual dan error\n",
        "print(results)\n",
        "\n",
        "# === Prediksi Harga di Minggu Berikutnya ===\n",
        "# Menggunakan data terbaru untuk memprediksi minggu selanjutnya\n",
        "next_week_input = X_test.iloc[-1].values.reshape(1, -1)  # Ambil data fitur terakhir\n",
        "next_week_pred = model.predict(next_week_input)\n",
        "\n",
        "# Tampilkan prediksi untuk minggu berikutnya\n",
        "print(f'Prediksi harga minggu depan: {next_week_pred[0]}')\n",
        "\n",
        "# === Visualisasi Hasil ===\n",
        "plt.figure(figsize=(10, 6))\n",
        "plt.plot(results.index, results['Actual'], label='Harga Aktual', marker='o')\n",
        "plt.plot(results.index, results['Predicted'], label='Harga Prediksi', marker='x')\n",
        "plt.title('Prediksi vs Aktual - Linear Regression')\n",
        "plt.xlabel('Tanggal')\n",
        "plt.ylabel('Harga')\n",
        "plt.legend()\n",
        "plt.grid(True)\n",
        "plt.show()\n"
      ],
      "metadata": {
        "id": "sr8uYKJOkIxE"
      },
      "execution_count": null,
      "outputs": []
    },
    {
      "cell_type": "markdown",
      "source": [
        "## RANDOM FOREST"
      ],
      "metadata": {
        "id": "-tKJlQDtln0R"
      }
    },
    {
      "cell_type": "code",
      "source": [
        "# Definisikan model Random Forest\n",
        "from sklearn.ensemble import RandomForestRegressor\n",
        "# Inisialisasi dan latih model Random Forest\n",
        "model_rf = RandomForestRegressor(n_estimators=100, random_state=42)\n",
        "model_rf.fit(X_train, y_train)  # Latih model Random Forest\n",
        "# Buat DataFrame untuk membandingkan harga aktual dan prediksi\n",
        "results_rf = pd.DataFrame({'Actual': y_test, 'Predicted': y_pred}, index=X_test.index)\n",
        "\n",
        "# Hitung persentase error per minggu\n",
        "results_rf['Error (%)'] = (results_rf['Actual'] - results_rf['Predicted']) / results_rf['Actual'] * 100\n",
        "\n",
        "# Tampilkan hasil prediksi vs harga aktual dan error\n",
        "print(results_rf)\n",
        "\n",
        "# === Prediksi Harga di Minggu Berikutnya ===\n",
        "# Menggunakan data terbaru untuk memprediksi minggu selanjutnya\n",
        "next_week_input_rf = X_test.iloc[-1].values.reshape(1, -1)\n",
        "next_week_pred_rf = model.predict(next_week_input_rf)\n",
        "\n",
        "print(f'Prediksi harga minggu depan dengan Random Forest: {next_week_pred_rf[0]}')\n",
        "\n",
        "# === Visualisasi Hasil ===\n",
        "plt.figure(figsize=(10, 6))\n",
        "plt.plot(results_rf.index, results_rf['Actual'], label='Harga Aktual', marker='o')\n",
        "plt.plot(results_rf.index, results_rf['Predicted'], label='Harga Prediksi', marker='x')\n",
        "plt.title('Prediksi vs Aktual - Random Forest')\n",
        "plt.xlabel('Tanggal')\n",
        "plt.ylabel('Harga')\n",
        "plt.legend()\n",
        "plt.grid(True)\n",
        "plt.show()\n"
      ],
      "metadata": {
        "id": "46Bz8l_blqpK"
      },
      "execution_count": null,
      "outputs": []
    },
    {
      "cell_type": "markdown",
      "source": [
        "## ASSEMBLE BAGGING"
      ],
      "metadata": {
        "id": "fvpqwgKslwWf"
      }
    },
    {
      "cell_type": "code",
      "source": [
        "# Buat DataFrame untuk membandingkan harga aktual dan prediksi\n",
        "results_bagging = pd.DataFrame({'Actual': y_test, 'Predicted': y_pred}, index=X_test.index)\n",
        "\n",
        "# Hitung persentase error per minggu\n",
        "results_bagging['Error (%)'] = (results_bagging['Actual'] - results_bagging['Predicted']) / results_bagging['Actual'] * 100\n",
        "\n",
        "# Tampilkan hasil prediksi vs harga aktual dan error\n",
        "print(results_bagging)\n",
        "\n",
        "# === Prediksi Harga di Minggu Berikutnya ===\n",
        "# Menggunakan data terbaru untuk memprediksi minggu selanjutnya\n",
        "next_week_input_bagging = X_test.iloc[-1].values.reshape(1, -1)\n",
        "next_week_pred_bagging = bagging_model.predict(next_week_input_bagging)\n",
        "\n",
        "print(f'Prediksi harga minggu depan dengan Bagging Regressor: {next_week_pred_bagging[0]}')\n",
        "\n",
        "# === Visualisasi Hasil ===\n",
        "plt.figure(figsize=(10, 6))\n",
        "plt.plot(results_bagging.index, results_bagging['Actual'], label='Harga Aktual', marker='o')\n",
        "plt.plot(results_bagging.index, results_bagging['Predicted'], label='Harga Prediksi', marker='x')\n",
        "plt.title('Prediksi vs Aktual - Bagging Regressor')\n",
        "plt.xlabel('Tanggal')\n",
        "plt.ylabel('Harga')\n",
        "plt.legend()\n",
        "plt.grid(True)\n",
        "plt.show()\n"
      ],
      "metadata": {
        "id": "Xms_d2NHlz72"
      },
      "execution_count": null,
      "outputs": []
    },
    {
      "cell_type": "code",
      "source": [
        "# Contoh menggabungkan hasil prediksi dari ketiga model\n",
        "combined_results = pd.DataFrame({\n",
        "    'Actual': y_test,\n",
        "    'Linear Regression': model.predict(X_test),\n",
        "    'Random Forest': model_rf.predict(X_test),\n",
        "    'Bagging Regressor': bagging_model.predict(X_test)\n",
        "}, index=y_test.index)\n",
        "\n",
        "# Visualisasi gabungan\n",
        "plt.figure(figsize=(12, 6))\n",
        "plt.plot(combined_results.index, combined_results['Actual'], label='Harga Aktual', marker='o')\n",
        "plt.plot(combined_results.index, combined_results['Linear Regression'], label='Linear Regression', marker='x')\n",
        "plt.plot(combined_results.index, combined_results['Random Forest'], label='Random Forest', marker='s')\n",
        "plt.plot(combined_results.index, combined_results['Bagging Regressor'], label='Bagging Regressor', marker='d')\n",
        "plt.title('Perbandingan Prediksi Model')\n",
        "plt.xlabel('Tanggal')\n",
        "plt.ylabel('Harga')\n",
        "plt.legend()\n",
        "plt.grid(True)\n",
        "plt.show()\n"
      ],
      "metadata": {
        "id": "Gdlw0OdVl6V5"
      },
      "execution_count": null,
      "outputs": []
    },
    {
      "cell_type": "code",
      "source": [
        "# Didenormalisasi nilai prediksi\n",
        "y_pred_denorm = scaler.inverse_transform(y_pred.reshape(-1, 1))\n",
        "\n",
        "# Didenormalisasi nilai aktual\n",
        "y_test_denorm = scaler.inverse_transform(y_test.values.reshape(-1, 1))\n",
        "\n",
        "# Buat DataFrame untuk membandingkan harga aktual (didenormalisasi) dan prediksi (didenormalisasi)\n",
        "results_denorm = pd.DataFrame({\n",
        "    'Actual (denorm)': y_test_denorm.flatten(),\n",
        "    'Predicted (denorm)': y_pred_denorm.flatten()\n",
        "}, index=y_test.index)\n",
        "\n",
        "# Hitung persentase error per minggu (setelah denormalisasi)\n",
        "results_denorm['Error (%)'] = (results_denorm['Actual (denorm)'] - results_denorm['Predicted (denorm)']) / results_denorm['Actual (denorm)'] * 100\n",
        "\n",
        "# Tampilkan hasil\n",
        "print(results_denorm)\n"
      ],
      "metadata": {
        "id": "4Hd9si-6l_WT"
      },
      "execution_count": null,
      "outputs": []
    },
    {
      "cell_type": "code",
      "source": [
        "# Didenormalisasi prediksi harga minggu depan\n",
        "next_week_pred_denorm = scaler.inverse_transform(next_week_pred.reshape(-1, 1))\n",
        "\n",
        "print(f'Prediksi harga minggu depan (denormalisasi): {next_week_pred_denorm[0][0]}')\n"
      ],
      "metadata": {
        "id": "SnKvJz0YmDel"
      },
      "execution_count": null,
      "outputs": []
    },
    {
      "cell_type": "markdown",
      "source": [
        "# UJI COBA"
      ],
      "metadata": {
        "id": "URMwRCmK6SLY"
      }
    },
    {
      "cell_type": "code",
      "source": [
        "def split_data(data, target, train_size):\n",
        "    split_index = int(len(data) * train_size)\n",
        "\n",
        "    x_train = data[:split_index]\n",
        "    y_train = target[:split_index]\n",
        "    x_test = data[split_index:]\n",
        "    y_test = target[split_index:]\n",
        "\n",
        "    return x_train, y_train, x_test, y_test"
      ],
      "metadata": {
        "id": "VShcawM14ZuJ"
      },
      "execution_count": null,
      "outputs": []
    },
    {
      "cell_type": "code",
      "source": [
        "def rmse(y_true, y_pred):\n",
        "    return np.sqrt(mean_squared_error(y_true, y_pred))\n",
        "\n",
        "def grid_search(input_df, target_df, splits, estimators, bootstrap, max_samples):\n",
        "    best_rmse = float('inf')\n",
        "    best_params = None\n",
        "    i = 0\n",
        "    for split in splits:\n",
        "        x_train, y_train, x_test, y_test = split_data(input_df, target_df, 0.8)\n",
        "        for estimator in estimators:\n",
        "            for bootstrap in bootstraps:\n",
        "                for max_sample in max_samples:\n",
        "                    base_model = LinearRegression()\n",
        "                    bagging_model = BaggingRegressor(estimator=base_model, n_estimators=estimator, bootstrap=bootstrap, max_samples=max_sample)\n",
        "                    bagging_model.fit(x_train, y_train.values.ravel())\n",
        "                    y_pred = bagging_model.predict(x_test)\n",
        "                    i+=1\n",
        "                    current_rmse = rmse(y_test, y_pred)\n",
        "                    #print(f'Model {i} split: {split}, estimator: {estimator}, bootstrap: {bootstrap}, max sample: {max_sample}, RMSE: {current_rmse}')\n",
        "                    if current_rmse < best_rmse:\n",
        "                        best_rmse = current_rmse\n",
        "                        best_model = bagging_model\n",
        "                        best_params = {'estimator': estimator, 'bootstrap': bootstrap, 'train_sample': split, 'max_sample': max_sample}\n",
        "    return best_params, best_rmse, best_model\n",
        "\n",
        "# Parameter untuk Grid Search\n",
        "splits = [0.7, 0.75, 0.8, 0.85, 0.9]\n",
        "estimators = [10, 20, 50, 100]\n",
        "bootstraps = [True, False]\n",
        "max_samples = [0.8, 0.9, 1.0]\n",
        "\n",
        "best_params, best_rmse, best_model = grid_search(X_train_model, y_train_model, splits, estimators, bootstraps, max_samples)"
      ],
      "metadata": {
        "id": "pLjeHv2TY9yB"
      },
      "execution_count": null,
      "outputs": []
    },
    {
      "cell_type": "code",
      "source": [
        "# Parameter terbaik\n",
        "print(f'Best parameters: {best_params}')\n",
        "print(f'Best RMSE: {best_rmse}')"
      ],
      "metadata": {
        "id": "FZOmCP1k4rzj"
      },
      "execution_count": null,
      "outputs": []
    },
    {
      "cell_type": "code",
      "source": [
        "xt_1 = 40000\n",
        "xt_2 = 39500\n",
        "xt_3 = 39000\n",
        "\n",
        "last_row = np.array([\n",
        "    scaler.transform([[xt_1]]).flatten()[0],\n",
        "    scaler.transform([[xt_2]]).flatten()[0],\n",
        "    scaler.transform([[xt_3]]).flatten()[0]\n",
        "]).reshape(1, -1)\n",
        "last_row_df = pd.DataFrame(last_row, columns=X_train_model.columns)\n",
        "predicted_value_normalized = best_model.predict(last_row_df)\n",
        "predicted_value = scaler.inverse_transform(predicted_value_normalized.reshape(-1, 1))\n",
        "last_price = xt_1\n",
        "percentage_change = ((predicted_value[0][0] - last_price) / last_price) * 100\n",
        "change_sign = '+' if percentage_change > 0 else ''\n",
        "\n",
        "# Mengubah ke integer\n",
        "predicted_value_int = int(predicted_value[0][0])\n",
        "last_price_int = int(last_price)\n",
        "\n",
        "print(f'Harga bawang putih minggu ini: {last_price_int}')\n",
        "print(f'Prediksi harga bawang putih minggu depan: {predicted_value_int} ({change_sign}{percentage_change:.2f}%)')\n"
      ],
      "metadata": {
        "id": "9VADSIxm5TiL"
      },
      "execution_count": null,
      "outputs": []
    }
  ]
}